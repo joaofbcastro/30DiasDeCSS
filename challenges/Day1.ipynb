{
 "cells": [
  {
   "cell_type": "markdown",
   "metadata": {},
   "source": [
    "## Visão geral da tabela\n",
    "\n",
    "Verifico a tabela e noto quais dados são úteis para que possamos prosseguir com a análise."
   ]
  },
  {
   "cell_type": "code",
   "execution_count": 153,
   "metadata": {},
   "outputs": [
    {
     "data": {
      "text/html": [
       "<div>\n",
       "<style scoped>\n",
       "    .dataframe tbody tr th:only-of-type {\n",
       "        vertical-align: middle;\n",
       "    }\n",
       "\n",
       "    .dataframe tbody tr th {\n",
       "        vertical-align: top;\n",
       "    }\n",
       "\n",
       "    .dataframe thead th {\n",
       "        text-align: right;\n",
       "    }\n",
       "</style>\n",
       "<table border=\"1\" class=\"dataframe\">\n",
       "  <thead>\n",
       "    <tr style=\"text-align: right;\">\n",
       "      <th></th>\n",
       "      <th>ANO</th>\n",
       "      <th>MES</th>\n",
       "      <th>SENADOR</th>\n",
       "      <th>TIPO_DESPESA</th>\n",
       "      <th>CNPJ_CPF</th>\n",
       "      <th>FORNECEDOR</th>\n",
       "      <th>DOCUMENTO</th>\n",
       "      <th>DATA</th>\n",
       "      <th>DETALHAMENTO</th>\n",
       "      <th>VALOR_REEMBOLSADO</th>\n",
       "      <th>COD_DOCUMENTO</th>\n",
       "    </tr>\n",
       "  </thead>\n",
       "  <tbody>\n",
       "    <tr>\n",
       "      <th>0</th>\n",
       "      <td>2022</td>\n",
       "      <td>1</td>\n",
       "      <td>ACIR GURGACZ</td>\n",
       "      <td>Aluguel de im�veis para escrit�rio pol�tico, c...</td>\n",
       "      <td>004.948.028-63</td>\n",
       "      <td>GILBERTO PISELO DO NASCIMENTO</td>\n",
       "      <td>001/22</td>\n",
       "      <td>03/01/2022</td>\n",
       "      <td>Despesa com pagamento de aluguel de im�vel par...</td>\n",
       "      <td>6000</td>\n",
       "      <td>2173614</td>\n",
       "    </tr>\n",
       "    <tr>\n",
       "      <th>1</th>\n",
       "      <td>2022</td>\n",
       "      <td>1</td>\n",
       "      <td>ACIR GURGACZ</td>\n",
       "      <td>Divulga��o da atividade parlamentar</td>\n",
       "      <td>26.320.603/0001-64</td>\n",
       "      <td>INFORMANAHORA</td>\n",
       "      <td>000000000000310/A</td>\n",
       "      <td>04/01/2022</td>\n",
       "      <td>Despesa com divulga��o da atividade parlamenta...</td>\n",
       "      <td>1500</td>\n",
       "      <td>2173615</td>\n",
       "    </tr>\n",
       "    <tr>\n",
       "      <th>2</th>\n",
       "      <td>2022</td>\n",
       "      <td>1</td>\n",
       "      <td>ACIR GURGACZ</td>\n",
       "      <td>Divulga��o da atividade parlamentar</td>\n",
       "      <td>13.659.201/0001-47</td>\n",
       "      <td>LINHA PURPURA FOTO E VIDEO LTDA</td>\n",
       "      <td>107</td>\n",
       "      <td>14/01/2022</td>\n",
       "      <td>Despesa com produ��o de texto e edi��o de v�de...</td>\n",
       "      <td>6000</td>\n",
       "      <td>2173616</td>\n",
       "    </tr>\n",
       "    <tr>\n",
       "      <th>3</th>\n",
       "      <td>2022</td>\n",
       "      <td>1</td>\n",
       "      <td>ACIR GURGACZ</td>\n",
       "      <td>Divulga��o da atividade parlamentar</td>\n",
       "      <td>23.652.846/0001-01</td>\n",
       "      <td>ROBERTO GUTIERREZ DA ROCHA M.E.I.</td>\n",
       "      <td>187</td>\n",
       "      <td>18/01/2022</td>\n",
       "      <td>Divulga��o da atividade parlamentar</td>\n",
       "      <td>1000</td>\n",
       "      <td>2173618</td>\n",
       "    </tr>\n",
       "    <tr>\n",
       "      <th>4</th>\n",
       "      <td>2022</td>\n",
       "      <td>1</td>\n",
       "      <td>ACIR GURGACZ</td>\n",
       "      <td>Divulga��o da atividade parlamentar</td>\n",
       "      <td>08.941.827/0001-01</td>\n",
       "      <td>RONDONIA DIN�MICA COM. E SERV. DE INFORM�TICA ...</td>\n",
       "      <td>000000000001772/A</td>\n",
       "      <td>17/01/2022</td>\n",
       "      <td>Divulga��o da atividade parlamentar</td>\n",
       "      <td>2000</td>\n",
       "      <td>2173617</td>\n",
       "    </tr>\n",
       "  </tbody>\n",
       "</table>\n",
       "</div>"
      ],
      "text/plain": [
       "    ANO  MES       SENADOR                                       TIPO_DESPESA  \\\n",
       "0  2022    1  ACIR GURGACZ  Aluguel de im�veis para escrit�rio pol�tico, c...   \n",
       "1  2022    1  ACIR GURGACZ                Divulga��o da atividade parlamentar   \n",
       "2  2022    1  ACIR GURGACZ                Divulga��o da atividade parlamentar   \n",
       "3  2022    1  ACIR GURGACZ                Divulga��o da atividade parlamentar   \n",
       "4  2022    1  ACIR GURGACZ                Divulga��o da atividade parlamentar   \n",
       "\n",
       "             CNPJ_CPF                                         FORNECEDOR  \\\n",
       "0      004.948.028-63                      GILBERTO PISELO DO NASCIMENTO   \n",
       "1  26.320.603/0001-64                                      INFORMANAHORA   \n",
       "2  13.659.201/0001-47                    LINHA PURPURA FOTO E VIDEO LTDA   \n",
       "3  23.652.846/0001-01                  ROBERTO GUTIERREZ DA ROCHA M.E.I.   \n",
       "4  08.941.827/0001-01  RONDONIA DIN�MICA COM. E SERV. DE INFORM�TICA ...   \n",
       "\n",
       "           DOCUMENTO        DATA  \\\n",
       "0             001/22  03/01/2022   \n",
       "1  000000000000310/A  04/01/2022   \n",
       "2                107  14/01/2022   \n",
       "3                187  18/01/2022   \n",
       "4  000000000001772/A  17/01/2022   \n",
       "\n",
       "                                        DETALHAMENTO VALOR_REEMBOLSADO  \\\n",
       "0  Despesa com pagamento de aluguel de im�vel par...              6000   \n",
       "1  Despesa com divulga��o da atividade parlamenta...              1500   \n",
       "2  Despesa com produ��o de texto e edi��o de v�de...              6000   \n",
       "3                Divulga��o da atividade parlamentar              1000   \n",
       "4                Divulga��o da atividade parlamentar              2000   \n",
       "\n",
       "   COD_DOCUMENTO  \n",
       "0        2173614  \n",
       "1        2173615  \n",
       "2        2173616  \n",
       "3        2173618  \n",
       "4        2173617  "
      ]
     },
     "execution_count": 153,
     "metadata": {},
     "output_type": "execute_result"
    }
   ],
   "source": [
    "import pandas as pd\n",
    "\n",
    "# importando o data frame e removendo a primeira linha.\n",
    "path = \"data/despesa_ceaps_2022.csv\"\n",
    "data = pd.read_csv(path, sep=\";\", skiprows=[0])\n",
    "data.head()"
   ]
  },
  {
   "cell_type": "markdown",
   "metadata": {},
   "source": [
    "## Limpando os dados\n",
    "\n",
    "Nessa etapa, limparei a tabela, verificando se há valores nulos, transformarei os tipos de algumas colunas e verificarei se os dados fazem sentido."
   ]
  },
  {
   "cell_type": "code",
   "execution_count": 154,
   "metadata": {},
   "outputs": [
    {
     "data": {
      "text/html": [
       "<div>\n",
       "<style scoped>\n",
       "    .dataframe tbody tr th:only-of-type {\n",
       "        vertical-align: middle;\n",
       "    }\n",
       "\n",
       "    .dataframe tbody tr th {\n",
       "        vertical-align: top;\n",
       "    }\n",
       "\n",
       "    .dataframe thead th {\n",
       "        text-align: right;\n",
       "    }\n",
       "</style>\n",
       "<table border=\"1\" class=\"dataframe\">\n",
       "  <thead>\n",
       "    <tr style=\"text-align: right;\">\n",
       "      <th></th>\n",
       "      <th>ANO</th>\n",
       "      <th>MES</th>\n",
       "      <th>SENADOR</th>\n",
       "      <th>TIPO_DESPESA</th>\n",
       "      <th>CNPJ_CPF</th>\n",
       "      <th>FORNECEDOR</th>\n",
       "      <th>DATA</th>\n",
       "      <th>DETALHAMENTO</th>\n",
       "      <th>VALOR_REEMBOLSADO</th>\n",
       "      <th>COD_DOCUMENTO</th>\n",
       "    </tr>\n",
       "  </thead>\n",
       "  <tbody>\n",
       "    <tr>\n",
       "      <th>0</th>\n",
       "      <td>2022</td>\n",
       "      <td>1</td>\n",
       "      <td>ACIR GURGACZ</td>\n",
       "      <td>Aluguel de im�veis para escrit�rio pol�tico, c...</td>\n",
       "      <td>004.948.028-63</td>\n",
       "      <td>GILBERTO PISELO DO NASCIMENTO</td>\n",
       "      <td>03/01/2022</td>\n",
       "      <td>Despesa com pagamento de aluguel de im�vel par...</td>\n",
       "      <td>6000</td>\n",
       "      <td>2173614</td>\n",
       "    </tr>\n",
       "    <tr>\n",
       "      <th>1</th>\n",
       "      <td>2022</td>\n",
       "      <td>1</td>\n",
       "      <td>ACIR GURGACZ</td>\n",
       "      <td>Divulga��o da atividade parlamentar</td>\n",
       "      <td>26.320.603/0001-64</td>\n",
       "      <td>INFORMANAHORA</td>\n",
       "      <td>04/01/2022</td>\n",
       "      <td>Despesa com divulga��o da atividade parlamenta...</td>\n",
       "      <td>1500</td>\n",
       "      <td>2173615</td>\n",
       "    </tr>\n",
       "    <tr>\n",
       "      <th>2</th>\n",
       "      <td>2022</td>\n",
       "      <td>1</td>\n",
       "      <td>ACIR GURGACZ</td>\n",
       "      <td>Divulga��o da atividade parlamentar</td>\n",
       "      <td>13.659.201/0001-47</td>\n",
       "      <td>LINHA PURPURA FOTO E VIDEO LTDA</td>\n",
       "      <td>14/01/2022</td>\n",
       "      <td>Despesa com produ��o de texto e edi��o de v�de...</td>\n",
       "      <td>6000</td>\n",
       "      <td>2173616</td>\n",
       "    </tr>\n",
       "    <tr>\n",
       "      <th>3</th>\n",
       "      <td>2022</td>\n",
       "      <td>1</td>\n",
       "      <td>ACIR GURGACZ</td>\n",
       "      <td>Divulga��o da atividade parlamentar</td>\n",
       "      <td>23.652.846/0001-01</td>\n",
       "      <td>ROBERTO GUTIERREZ DA ROCHA M.E.I.</td>\n",
       "      <td>18/01/2022</td>\n",
       "      <td>Divulga��o da atividade parlamentar</td>\n",
       "      <td>1000</td>\n",
       "      <td>2173618</td>\n",
       "    </tr>\n",
       "    <tr>\n",
       "      <th>4</th>\n",
       "      <td>2022</td>\n",
       "      <td>1</td>\n",
       "      <td>ACIR GURGACZ</td>\n",
       "      <td>Divulga��o da atividade parlamentar</td>\n",
       "      <td>08.941.827/0001-01</td>\n",
       "      <td>RONDONIA DIN�MICA COM. E SERV. DE INFORM�TICA ...</td>\n",
       "      <td>17/01/2022</td>\n",
       "      <td>Divulga��o da atividade parlamentar</td>\n",
       "      <td>2000</td>\n",
       "      <td>2173617</td>\n",
       "    </tr>\n",
       "  </tbody>\n",
       "</table>\n",
       "</div>"
      ],
      "text/plain": [
       "    ANO  MES       SENADOR                                       TIPO_DESPESA  \\\n",
       "0  2022    1  ACIR GURGACZ  Aluguel de im�veis para escrit�rio pol�tico, c...   \n",
       "1  2022    1  ACIR GURGACZ                Divulga��o da atividade parlamentar   \n",
       "2  2022    1  ACIR GURGACZ                Divulga��o da atividade parlamentar   \n",
       "3  2022    1  ACIR GURGACZ                Divulga��o da atividade parlamentar   \n",
       "4  2022    1  ACIR GURGACZ                Divulga��o da atividade parlamentar   \n",
       "\n",
       "             CNPJ_CPF                                         FORNECEDOR  \\\n",
       "0      004.948.028-63                      GILBERTO PISELO DO NASCIMENTO   \n",
       "1  26.320.603/0001-64                                      INFORMANAHORA   \n",
       "2  13.659.201/0001-47                    LINHA PURPURA FOTO E VIDEO LTDA   \n",
       "3  23.652.846/0001-01                  ROBERTO GUTIERREZ DA ROCHA M.E.I.   \n",
       "4  08.941.827/0001-01  RONDONIA DIN�MICA COM. E SERV. DE INFORM�TICA ...   \n",
       "\n",
       "         DATA                                       DETALHAMENTO  \\\n",
       "0  03/01/2022  Despesa com pagamento de aluguel de im�vel par...   \n",
       "1  04/01/2022  Despesa com divulga��o da atividade parlamenta...   \n",
       "2  14/01/2022  Despesa com produ��o de texto e edi��o de v�de...   \n",
       "3  18/01/2022                Divulga��o da atividade parlamentar   \n",
       "4  17/01/2022                Divulga��o da atividade parlamentar   \n",
       "\n",
       "  VALOR_REEMBOLSADO  COD_DOCUMENTO  \n",
       "0              6000        2173614  \n",
       "1              1500        2173615  \n",
       "2              6000        2173616  \n",
       "3              1000        2173618  \n",
       "4              2000        2173617  "
      ]
     },
     "metadata": {},
     "output_type": "display_data"
    }
   ],
   "source": [
    "# Removendo uma coluna que não é necessária\n",
    "data = data.drop(\"DOCUMENTO\", axis=1)\n",
    "display(data.head())"
   ]
  },
  {
   "cell_type": "code",
   "execution_count": 155,
   "metadata": {},
   "outputs": [
    {
     "name": "stdout",
     "output_type": "stream",
     "text": [
      "<class 'pandas.core.frame.DataFrame'>\n",
      "RangeIndex: 10277 entries, 0 to 10276\n",
      "Data columns (total 10 columns):\n",
      " #   Column             Non-Null Count  Dtype \n",
      "---  ------             --------------  ----- \n",
      " 0   ANO                10277 non-null  int64 \n",
      " 1   MES                10277 non-null  int64 \n",
      " 2   SENADOR            10277 non-null  object\n",
      " 3   TIPO_DESPESA       10277 non-null  object\n",
      " 4   CNPJ_CPF           10277 non-null  object\n",
      " 5   FORNECEDOR         10277 non-null  object\n",
      " 6   DATA               10277 non-null  object\n",
      " 7   DETALHAMENTO       5436 non-null   object\n",
      " 8   VALOR_REEMBOLSADO  10277 non-null  object\n",
      " 9   COD_DOCUMENTO      10277 non-null  int64 \n",
      "dtypes: int64(3), object(7)\n",
      "memory usage: 803.0+ KB\n"
     ]
    },
    {
     "data": {
      "text/plain": [
       "None"
      ]
     },
     "metadata": {},
     "output_type": "display_data"
    }
   ],
   "source": [
    "display(data.info())"
   ]
  },
  {
   "cell_type": "markdown",
   "metadata": {},
   "source": [
    "Notei que a coluna \"DATA\" está definida como uma coluna object, quando na verdade deveria estar formatada em datetime64. Então faço a transformação."
   ]
  },
  {
   "cell_type": "code",
   "execution_count": 156,
   "metadata": {},
   "outputs": [
    {
     "name": "stdout",
     "output_type": "stream",
     "text": [
      "<class 'pandas.core.frame.DataFrame'>\n",
      "RangeIndex: 10277 entries, 0 to 10276\n",
      "Data columns (total 10 columns):\n",
      " #   Column             Non-Null Count  Dtype         \n",
      "---  ------             --------------  -----         \n",
      " 0   ANO                10277 non-null  int64         \n",
      " 1   MES                10277 non-null  int64         \n",
      " 2   SENADOR            10277 non-null  object        \n",
      " 3   TIPO_DESPESA       10277 non-null  object        \n",
      " 4   CNPJ_CPF           10277 non-null  object        \n",
      " 5   FORNECEDOR         10277 non-null  object        \n",
      " 6   DATA               10277 non-null  datetime64[ns]\n",
      " 7   DETALHAMENTO       5436 non-null   object        \n",
      " 8   VALOR_REEMBOLSADO  10277 non-null  object        \n",
      " 9   COD_DOCUMENTO      10277 non-null  int64         \n",
      "dtypes: datetime64[ns](1), int64(3), object(6)\n",
      "memory usage: 803.0+ KB\n"
     ]
    }
   ],
   "source": [
    "# Transforma a coluna DATA em um datetime64.\n",
    "data[\"DATA\"] = pd.to_datetime(data[\"DATA\"], format=\"%d/%m/%Y\")\n",
    "data.info()"
   ]
  },
  {
   "cell_type": "markdown",
   "metadata": {},
   "source": [
    "Vendo também que a coluna \"VALOR_REEMBOLSADO\" está definida como object, tentarei fazer a transformação dela para numérico."
   ]
  },
  {
   "cell_type": "markdown",
   "metadata": {},
   "source": [
    "Vejo que algumas linhas da coluna VALOR_REEMBOLSADO estão utilizando virgulas para separar as casas decimais, sendo assim, farei o replace para que sejam pontos no lugar das virgulas."
   ]
  },
  {
   "cell_type": "code",
   "execution_count": 157,
   "metadata": {},
   "outputs": [
    {
     "data": {
      "text/plain": [
       "200        236\n",
       "100        181\n",
       "2000       159\n",
       "1500       123\n",
       "1000       105\n",
       "          ... \n",
       "810.32       1\n",
       "1221.21      1\n",
       "9.26         1\n",
       "64.92        1\n",
       "2850.9       1\n",
       "Name: VALOR_REEMBOLSADO, Length: 6138, dtype: int64"
      ]
     },
     "execution_count": 157,
     "metadata": {},
     "output_type": "execute_result"
    }
   ],
   "source": [
    "data[\"VALOR_REEMBOLSADO\"] = data[\"VALOR_REEMBOLSADO\"].apply( lambda x: str(x).replace(\",\",\".\") )\n",
    "data[\"VALOR_REEMBOLSADO\"].value_counts()"
   ]
  },
  {
   "cell_type": "markdown",
   "metadata": {},
   "source": [
    "Agora sim podemos converter a coluna para numérico."
   ]
  },
  {
   "cell_type": "code",
   "execution_count": 158,
   "metadata": {},
   "outputs": [
    {
     "name": "stdout",
     "output_type": "stream",
     "text": [
      "<class 'pandas.core.frame.DataFrame'>\n",
      "RangeIndex: 10277 entries, 0 to 10276\n",
      "Data columns (total 10 columns):\n",
      " #   Column             Non-Null Count  Dtype         \n",
      "---  ------             --------------  -----         \n",
      " 0   ANO                10277 non-null  int64         \n",
      " 1   MES                10277 non-null  int64         \n",
      " 2   SENADOR            10277 non-null  object        \n",
      " 3   TIPO_DESPESA       10277 non-null  object        \n",
      " 4   CNPJ_CPF           10277 non-null  object        \n",
      " 5   FORNECEDOR         10277 non-null  object        \n",
      " 6   DATA               10277 non-null  datetime64[ns]\n",
      " 7   DETALHAMENTO       5436 non-null   object        \n",
      " 8   VALOR_REEMBOLSADO  10277 non-null  float64       \n",
      " 9   COD_DOCUMENTO      10277 non-null  int64         \n",
      "dtypes: datetime64[ns](1), float64(1), int64(3), object(5)\n",
      "memory usage: 803.0+ KB\n"
     ]
    }
   ],
   "source": [
    "data[\"VALOR_REEMBOLSADO\"] = pd.to_numeric(data[\"VALOR_REEMBOLSADO\"])\n",
    "data.info()"
   ]
  },
  {
   "cell_type": "markdown",
   "metadata": {},
   "source": [
    "Agora, todas as colunas foram limpas e estão definidas com seu tipo correto.\n",
    "\n",
    "Por não ser uma informação importante, não há problema em deixar a coluna DETALHAMENTO com valores nulos."
   ]
  },
  {
   "cell_type": "markdown",
   "metadata": {},
   "source": [
    "## Conclusão\n",
    "\n",
    "A tabela foi limpa e está pronta para ser usada uma uma análise de dados mais aprofundada."
   ]
  }
 ],
 "metadata": {
  "kernelspec": {
   "display_name": "Python 3.10.6 ('venv': venv)",
   "language": "python",
   "name": "python3"
  },
  "language_info": {
   "codemirror_mode": {
    "name": "ipython",
    "version": 3
   },
   "file_extension": ".py",
   "mimetype": "text/x-python",
   "name": "python",
   "nbconvert_exporter": "python",
   "pygments_lexer": "ipython3",
   "version": "3.10.6"
  },
  "orig_nbformat": 4,
  "vscode": {
   "interpreter": {
    "hash": "b7223e1a5b78a5d0bb1b458e712ad8922c49a1788d3510a74cb014c5ddf015f1"
   }
  }
 },
 "nbformat": 4,
 "nbformat_minor": 2
}
